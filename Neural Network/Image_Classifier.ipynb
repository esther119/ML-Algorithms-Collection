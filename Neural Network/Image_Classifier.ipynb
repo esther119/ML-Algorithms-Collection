{
 "cells": [
  {
   "cell_type": "code",
   "execution_count": null,
   "id": "fa4bb37a",
   "metadata": {},
   "outputs": [
    {
     "ename": "",
     "evalue": "",
     "output_type": "error",
     "traceback": [
      "\u001b[1;31mFailed to start the Kernel. \n",
      "\u001b[1;31mActivating extension 'ms-python.python' failed: TelemetrySender.sendEventData must be a function. \n",
      "\u001b[1;31mView Jupyter <a href='command:jupyter.viewOutput'>log</a> for further details."
     ]
    }
   ],
   "source": [
    "import numpy as np\n",
    "import matplotlib.pyplot as plt\n",
    "\n",
    "def load_data(path):\n",
    "    def one_hot(y):\n",
    "        table = np.zeros((y.shape[0], 10))\n",
    "        for i in range(y.shape[0]):\n",
    "            table[i][int(y[i][0])] = 1 \n",
    "        return table\n",
    "\n",
    "    def normalize(x): \n",
    "        x = x / 255\n",
    "        return x \n",
    "\n",
    "    data = np.loadtxt('{}'.format(path), delimiter = ',')\n",
    "    return normalize(data[:,1:]),one_hot(data[:,:1])\n",
    "\n",
    "X_train, y_train = load_data('mnist_train.csv')\n",
    "X_test, y_test = load_data('mnist_test.csv')"
   ]
  },
  {
   "cell_type": "code",
   "execution_count": null,
   "id": "323c6770",
   "metadata": {},
   "outputs": [
    {
     "ename": "",
     "evalue": "",
     "output_type": "error",
     "traceback": [
      "\u001b[1;31mFailed to start the Kernel. \n",
      "\u001b[1;31mActivating extension 'ms-python.python' failed: TelemetrySender.sendEventData must be a function. \n",
      "\u001b[1;31mView Jupyter <a href='command:jupyter.viewOutput'>log</a> for further details."
     ]
    }
   ],
   "source": [
    "class NeuralNetwork:\n",
    "    def __init__(self, X, y, batch = 64, lr = 1e-3,  epochs = 50):\n",
    "        self.input = X \n",
    "        self.target = y\n",
    "        self.batch = batch\n",
    "        self.epochs = epochs\n",
    "        self.lr = lr\n",
    "        \n",
    "        self.x = self.input[:self.batch] # batch input \n",
    "        self.y = self.target[:self.batch] # batch target value\n",
    "        self.loss = []\n",
    "        self.acc = []\n",
    "        \n",
    "        self.init_weights()\n",
    "      \n",
    "    def init_weights(self):\n",
    "        self.W1 = np.random.randn(self.input.shape[1],256)\n",
    "        self.W2 = np.random.randn(self.W1.shape[1],128)\n",
    "        self.W3 = np.random.randn(self.W2.shape[1],self.y.shape[1])\n",
    "\n",
    "        self.b1 = np.random.randn(self.W1.shape[1],)\n",
    "        self.b2 = np.random.randn(self.W2.shape[1],)\n",
    "        self.b3 = np.random.randn(self.W3.shape[1],)\n",
    "\n",
    "    def ReLU(self, x):\n",
    "        return np.maximum(0,x)\n",
    "\n",
    "    def dReLU(self,x):\n",
    "        return 1 * (x > 0) \n",
    "    \n",
    "    def softmax(self, z):\n",
    "        z = z - np.max(z, axis = 1).reshape(z.shape[0],1)\n",
    "        return np.exp(z) / np.sum(np.exp(z), axis = 1).reshape(z.shape[0],1)\n",
    "    \n",
    "    def shuffle(self):\n",
    "        idx = [i for i in range(self.input.shape[0])]\n",
    "        np.random.shuffle(idx)\n",
    "        self.input = self.input[idx]\n",
    "        self.target = self.target[idx]\n",
    "        \n",
    "    def feedforward(self):\n",
    "        assert self.x.shape[1] == self.W1.shape[0]\n",
    "        self.z1 = self.x.dot(self.W1) + self.b1\n",
    "        self.a1 = self.ReLU(self.z1)\n",
    "\n",
    "        assert self.a1.shape[1] == self.W2.shape[0]\n",
    "        self.z2 = self.a1.dot(self.W2) + self.b2\n",
    "        self.a2 = self.ReLU(self.z2)\n",
    "\n",
    "        assert self.a2.shape[1] == self.W3.shape[0]\n",
    "        self.z3 = self.a2.dot(self.W3) + self.b3\n",
    "        self.a3 = self.softmax(self.z3)\n",
    "        self.error = self.a3 - self.y\n",
    "\n",
    "        \n",
    "    def backprop(self):\n",
    "        dcost = (1/self.batch)*self.error\n",
    "        \n",
    "        DW3 = np.dot(dcost.T,self.a2).T\n",
    "        DW2 = np.dot((np.dot((dcost),self.W3.T) * self.dReLU(self.z2)).T,self.a1).T\n",
    "        DW1 = np.dot((np.dot(np.dot((dcost),self.W3.T)*self.dReLU(self.z2),self.W2.T)*self.dReLU(self.z1)).T,self.x).T\n",
    "\n",
    "        db3 = np.sum(dcost,axis = 0)\n",
    "        db2 = np.sum(np.dot((dcost),self.W3.T) * self.dReLU(self.z2),axis = 0)\n",
    "        db1 = np.sum((np.dot(np.dot((dcost),self.W3.T)*self.dReLU(self.z2),self.W2.T)*self.dReLU(self.z1)),axis = 0)\n",
    "        \n",
    "        assert DW3.shape == self.W3.shape\n",
    "        assert DW2.shape == self.W2.shape\n",
    "        assert DW1.shape == self.W1.shape\n",
    "        \n",
    "        assert db3.shape == self.b3.shape\n",
    "        assert db2.shape == self.b2.shape\n",
    "        assert db1.shape == self.b1.shape \n",
    "        \n",
    "        self.W3 = self.W3 - self.lr * DW3\n",
    "        self.W2 = self.W2 - self.lr * DW2\n",
    "        self.W1 = self.W1 - self.lr * DW1\n",
    "        \n",
    "        self.b3 = self.b3 - self.lr * db3\n",
    "        self.b2 = self.b2 - self.lr * db2\n",
    "        self.b1 = self.b1 - self.lr * db1\n",
    "\n",
    "    def train(self):\n",
    "        for epoch in range(self.epochs):\n",
    "            l = 0\n",
    "            acc = 0\n",
    "            self.shuffle()\n",
    "            \n",
    "            for batch in range(self.input.shape[0]//self.batch-1):\n",
    "                start = batch*self.batch\n",
    "                end = (batch+1)*self.batch\n",
    "                self.x = self.input[start:end]\n",
    "                self.y = self.target[start:end]\n",
    "                self.feedforward()\n",
    "                self.backprop()\n",
    "                l+=np.mean(self.error**2)\n",
    "                acc+= np.count_nonzero(np.argmax(self.a3,axis=1) == np.argmax(self.y,axis=1)) / self.batch\n",
    "                \n",
    "            self.loss.append(l/(self.input.shape[0]//self.batch))\n",
    "            self.acc.append(acc*100/(self.input.shape[0]//self.batch))\n",
    "            \n",
    "    def plot(self):\n",
    "        plt.figure(dpi = 125)\n",
    "        plt.plot(self.loss)\n",
    "        plt.xlabel(\"Epochs\")\n",
    "        plt.ylabel(\"Loss\")\n",
    "    \n",
    "    def acc_plot(self):\n",
    "        plt.figure(dpi = 125)\n",
    "        plt.plot(self.acc)\n",
    "        plt.xlabel(\"Epochs\")\n",
    "        plt.ylabel(\"Accuracy\")\n",
    "        \n",
    "    def test(self,xtest,ytest):\n",
    "        self.x = xtest\n",
    "        self.y = ytest\n",
    "        self.feedforward()\n",
    "        acc = np.count_nonzero(np.argmax(self.a3,axis=1) == np.argmax(self.y,axis=1)) / self.x.shape[0]\n",
    "        print(\"Accuracy:\", 100 * acc, \"%\")\n",
    "    \n",
    "        \n",
    "        \n",
    "NN = NeuralNetwork(X_train, y_train) \n",
    "NN.train()\n",
    "NN.plot()\n",
    "NN.test(X_test,y_test)\n"
   ]
  },
  {
   "cell_type": "code",
   "execution_count": null,
   "id": "03025cfe",
   "metadata": {
    "scrolled": true
   },
   "outputs": [
    {
     "ename": "",
     "evalue": "",
     "output_type": "error",
     "traceback": [
      "\u001b[1;31mFailed to start the Kernel. \n",
      "\u001b[1;31mActivating extension 'ms-python.python' failed: TelemetrySender.sendEventData must be a function. \n",
      "\u001b[1;31mView Jupyter <a href='command:jupyter.viewOutput'>log</a> for further details."
     ]
    }
   ],
   "source": [
    "NN.acc_plot()"
   ]
  }
 ],
 "metadata": {
  "kernelspec": {
   "display_name": "conda_c",
   "language": "python",
   "name": "python3"
  },
  "language_info": {
   "codemirror_mode": {
    "name": "ipython",
    "version": 3
   },
   "file_extension": ".py",
   "mimetype": "text/x-python",
   "name": "python",
   "nbconvert_exporter": "python",
   "pygments_lexer": "ipython3",
   "version": "3.10.9 (main, Jan 11 2023, 09:18:20) [Clang 14.0.6 ]"
  },
  "vscode": {
   "interpreter": {
    "hash": "537c38dc6aa0112a8a14e691beb736aa4caf12763255772799d7c972e7b0d6bf"
   }
  }
 },
 "nbformat": 4,
 "nbformat_minor": 5
}
